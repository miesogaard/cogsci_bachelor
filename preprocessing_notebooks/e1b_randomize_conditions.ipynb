{
 "cells": [
  {
   "cell_type": "code",
   "execution_count": 1,
   "metadata": {},
   "outputs": [],
   "source": [
    "import random\n",
    "random.seed(108)\n",
    "\n",
    "stories = [\"story_1\", \"story_2\", \"story_3\", \"story_4\"]\n",
    "conditions = [\"_hfhs\", \"_hfls\", \"_lfls\", \"_lfhs\"]\n",
    "\n",
    "chosen_combinations = []\n",
    "coll_comb = []\n",
    "\n",
    "for i in range(0, 100):\n",
    "    coll_comb.append([])\n",
    "\n",
    "for i in range(0, 100):\n",
    "    all_combinations = []\n",
    "    chosen_combinations = []\n",
    "    random.shuffle(stories)\n",
    "    random.shuffle(conditions)\n",
    "    for c in range(0, 4):\n",
    "        chosen_combinations = stories[c] + conditions[c]\n",
    "        all_combinations.append(chosen_combinations)\n",
    "    all_combinations.append(\"story_1_control\")\n",
    "    all_combinations.append(\"story_2_control\")    \n",
    "    all_combinations.append(\"story_3_control\")    \n",
    "    all_combinations.append(\"story_4_control\")\n",
    "    random.shuffle(all_combinations)\n",
    "    coll_comb[i] = all_combinations\n",
    "    \n",
    "    \n",
    "\n",
    "\n",
    "\n",
    "#print(coll_comb)\n",
    "\n",
    "\n",
    "def unique(list1):\n",
    "  \n",
    "    # initialize a null list\n",
    "    unique_list = []\n",
    "  \n",
    "    # traverse for all elements\n",
    "    for x in list1:\n",
    "        # check if exists in unique_list or not\n",
    "        if x not in unique_list:\n",
    "            unique_list.append(x)\n",
    "            \n",
    "    return unique_list\n",
    "\n",
    "#print(len(unique(all_combinations)))\n"
   ]
  },
  {
   "cell_type": "code",
   "execution_count": 2,
   "metadata": {},
   "outputs": [],
   "source": [
    "\n",
    "participants = []\n",
    "\n",
    "for i in range(0, 100):\n",
    "    stat = \"No\"\n",
    "    ele = coll_comb[i]\n",
    "    \n",
    "    for item in range(0, 7):\n",
    "        ele_n = ele[item]\n",
    "        next_ele = ele[item+1]\n",
    "        if stat == \"Yes\":\n",
    "            stat = \"Yes\"\n",
    "        elif ele_n[6] == next_ele[6]:\n",
    "            stat = \"Yes\"\n",
    "    if stat == \"Yes\":\n",
    "        stat = \"Yes\"\n",
    "        \n",
    "    else:\n",
    "        participants.append(ele)"
   ]
  },
  {
   "cell_type": "code",
   "execution_count": 3,
   "metadata": {},
   "outputs": [
    {
     "name": "stdout",
     "output_type": "stream",
     "text": [
      "25\n"
     ]
    }
   ],
   "source": [
    "print(len(participants))"
   ]
  },
  {
   "cell_type": "code",
   "execution_count": 4,
   "metadata": {},
   "outputs": [
    {
     "name": "stdout",
     "output_type": "stream",
     "text": [
      "{'story_2_lfhs': 3, 'story_3_lfls': 3, 'story_4_hfhs': 3, 'story_1_hfls': 3, 'story_1_lfls': 2, 'story_3_hfls': 3, 'story_4_lfhs': 3, 'story_2_lfls': 3, 'story_3_hfhs': 2, 'story_4_lfls': 2, 'story_3_lfhs': 2, 'story_1_hfhs': 3, 'story_2_hfls': 2, 'story_2_hfhs': 2, 'story_1_lfhs': 2, 'story_4_hfls': 2}\n"
     ]
    }
   ],
   "source": [
    "l_p = []\n",
    "dict_l = dict()\n",
    "\n",
    "count = 0\n",
    "\n",
    "for l in participants:\n",
    "    stating = \"Approve\"\n",
    "    \n",
    "    if len(l_p) < 10:\n",
    "        \n",
    "        for item in l:\n",
    "            if item not in dict_l and 'control' not in item:\n",
    "                dict_l[item] = 0\n",
    "        \n",
    "        for item in l:\n",
    "            if 'control' not in item and dict_l[item] > 2:\n",
    "                stating = \"No\"\n",
    "        \n",
    "        if stating == \"Approve\":\n",
    "            for item in l:\n",
    "                if item in dict_l and 'control' not in item:\n",
    "                    dict_l[item] += 1\n",
    "            l_p.append(l)\n",
    "            count += 1\n",
    "\n",
    "print(dict_l)"
   ]
  },
  {
   "cell_type": "code",
   "execution_count": 5,
   "metadata": {},
   "outputs": [
    {
     "name": "stdout",
     "output_type": "stream",
     "text": [
      "Participant 1:\n",
      "['story_2_lfhs', 'story_1_control', 'story_2_control', 'story_4_control', 'story_3_lfls', 'story_4_hfhs', 'story_1_hfls', 'story_3_control']\n",
      "\n",
      "Participant 2:\n",
      "['story_3_control', 'story_1_lfls', 'story_2_control', 'story_4_control', 'story_3_hfls', 'story_4_hfhs', 'story_1_control', 'story_2_lfhs']\n",
      "\n",
      "Participant 3:\n",
      "['story_1_hfls', 'story_3_control', 'story_2_control', 'story_4_lfhs', 'story_2_lfls', 'story_4_control', 'story_1_control', 'story_3_hfhs']\n",
      "\n",
      "Participant 4:\n",
      "['story_1_control', 'story_2_lfhs', 'story_4_control', 'story_3_control', 'story_1_hfls', 'story_2_control', 'story_4_lfls', 'story_3_hfhs']\n",
      "\n",
      "Participant 5:\n",
      "['story_4_control', 'story_3_lfhs', 'story_2_control', 'story_3_control', 'story_4_lfls', 'story_1_hfhs', 'story_2_hfls', 'story_1_control']\n",
      "\n",
      "Participant 6:\n",
      "['story_1_control', 'story_3_control', 'story_2_hfls', 'story_4_control', 'story_1_hfhs', 'story_3_lfls', 'story_4_lfhs', 'story_2_control']\n",
      "\n",
      "Participant 7:\n",
      "['story_4_control', 'story_2_hfhs', 'story_3_hfls', 'story_2_control', 'story_1_lfls', 'story_3_control', 'story_4_lfhs', 'story_1_control']\n",
      "\n",
      "Participant 8:\n",
      "['story_3_lfls', 'story_1_lfhs', 'story_2_hfhs', 'story_4_hfls', 'story_1_control', 'story_3_control', 'story_4_control', 'story_2_control']\n",
      "\n",
      "Participant 9:\n",
      "['story_1_control', 'story_2_lfls', 'story_4_hfls', 'story_3_lfhs', 'story_2_control', 'story_1_hfhs', 'story_3_control', 'story_4_control']\n",
      "\n",
      "Participant 10:\n",
      "['story_3_control', 'story_4_control', 'story_2_control', 'story_1_control', 'story_2_lfls', 'story_1_lfhs', 'story_4_hfhs', 'story_3_hfls']\n",
      "\n"
     ]
    }
   ],
   "source": [
    "count = 0\n",
    "\n",
    "for item in l_p:\n",
    "    count += 1\n",
    "    print(\"Participant {n}:\".format(n = count))\n",
    "    print(item)\n",
    "    print(\"\")"
   ]
  },
  {
   "cell_type": "code",
   "execution_count": 6,
   "metadata": {},
   "outputs": [
    {
     "name": "stdout",
     "output_type": "stream",
     "text": [
      "{'story_2_lfhs': 3, 'story_3_lfls': 3, 'story_4_hfhs': 3, 'story_1_hfls': 3, 'story_1_lfls': 2, 'story_3_hfls': 3, 'story_4_lfhs': 3, 'story_2_lfls': 3, 'story_3_hfhs': 2, 'story_4_lfls': 2, 'story_3_lfhs': 2, 'story_1_hfhs': 3, 'story_2_hfls': 2, 'story_2_hfhs': 2, 'story_1_lfhs': 2, 'story_4_hfls': 2}\n"
     ]
    }
   ],
   "source": [
    "print(dict_l)"
   ]
  },
  {
   "cell_type": "code",
   "execution_count": null,
   "metadata": {},
   "outputs": [],
   "source": []
  },
  {
   "cell_type": "code",
   "execution_count": null,
   "metadata": {},
   "outputs": [],
   "source": []
  }
 ],
 "metadata": {
  "kernelspec": {
   "display_name": "Python 3",
   "language": "python",
   "name": "python3"
  },
  "language_info": {
   "codemirror_mode": {
    "name": "ipython",
    "version": 3
   },
   "file_extension": ".py",
   "mimetype": "text/x-python",
   "name": "python",
   "nbconvert_exporter": "python",
   "pygments_lexer": "ipython3",
   "version": "3.8.5"
  }
 },
 "nbformat": 4,
 "nbformat_minor": 4
}
