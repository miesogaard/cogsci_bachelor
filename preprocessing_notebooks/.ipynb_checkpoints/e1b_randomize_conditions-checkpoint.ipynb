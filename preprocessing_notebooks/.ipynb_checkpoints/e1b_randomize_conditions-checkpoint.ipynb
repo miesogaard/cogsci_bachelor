{
 "cells": [
  {
   "cell_type": "code",
   "execution_count": 1,
   "metadata": {},
   "outputs": [
    {
     "name": "stdout",
     "output_type": "stream",
     "text": [
      "['story_5_lfls', 'story_1_hfls', 'story_2_lfhs', 'story_3_control', 'story_4_hfhs', 'story_2_lfls', 'story_3_hfhs', 'story_1_lfhs', 'story_5_hfls', 'story_4_control', 'story_4_hfhs', 'story_1_lfhs', 'story_2_hfls', 'story_3_control', 'story_5_lfls', 'story_2_hfls', 'story_5_lfls', 'story_1_hfhs', 'story_4_control', 'story_3_lfhs', 'story_2_control', 'story_1_lfhs', 'story_3_hfhs', 'story_4_lfls', 'story_5_hfls', 'story_5_hfhs', 'story_3_hfls', 'story_1_lfls', 'story_2_control', 'story_4_lfhs', 'story_3_lfhs', 'story_1_control', 'story_2_hfhs', 'story_4_lfls', 'story_5_hfls', 'story_5_control', 'story_4_lfhs', 'story_2_hfhs', 'story_3_lfls', 'story_1_hfls', 'story_2_lfls', 'story_1_hfhs', 'story_4_hfls', 'story_5_lfhs', 'story_3_control', 'story_1_control', 'story_3_hfhs', 'story_5_lfhs', 'story_4_lfls', 'story_2_hfls']\n",
      "25\n"
     ]
    }
   ],
   "source": [
    "import random\n",
    "random.seed(9)\n",
    "\n",
    "stories = [\"story_1\", \"story_2\", \"story_3\", \"story_4\", \"story_5\"]\n",
    "conditions = [\"_control\", \"_hfhs\", \"_hfls\", \"_lfls\", \"_lfhs\"]\n",
    "\n",
    "all_combinations = []\n",
    "chosen_combinations = []\n",
    "for i in range(0, 10):\n",
    "    random.shuffle(stories)\n",
    "    random.shuffle(conditions)\n",
    "    for c in range(0, 5):\n",
    "        chosen_combinations = stories[c] + conditions[c]\n",
    "        all_combinations.append(chosen_combinations)\n",
    "    \n",
    "print(all_combinations)\n",
    "\n",
    "\n",
    "def unique(list1):\n",
    "  \n",
    "    # initialize a null list\n",
    "    unique_list = []\n",
    "  \n",
    "    # traverse for all elements\n",
    "    for x in list1:\n",
    "        # check if exists in unique_list or not\n",
    "        if x not in unique_list:\n",
    "            unique_list.append(x)\n",
    "            \n",
    "    return unique_list\n",
    "\n",
    "print(len(unique(all_combinations)))\n"
   ]
  },
  {
   "cell_type": "code",
   "execution_count": 2,
   "metadata": {},
   "outputs": [
    {
     "name": "stdout",
     "output_type": "stream",
     "text": [
      "Participant 1:\n",
      "['story_5_lfls', 'story_1_hfls', 'story_2_lfhs', 'story_3_control', 'story_4_hfhs']\n",
      "\n",
      "Participant 2:\n",
      "['story_2_lfls', 'story_3_hfhs', 'story_1_lfhs', 'story_5_hfls', 'story_4_control']\n",
      "\n",
      "Participant 3:\n",
      "['story_4_hfhs', 'story_1_lfhs', 'story_2_hfls', 'story_3_control', 'story_5_lfls']\n",
      "\n",
      "Participant 4:\n",
      "['story_2_hfls', 'story_5_lfls', 'story_1_hfhs', 'story_4_control', 'story_3_lfhs']\n",
      "\n",
      "Participant 5:\n",
      "['story_2_control', 'story_1_lfhs', 'story_3_hfhs', 'story_4_lfls', 'story_5_hfls']\n",
      "\n",
      "Participant 6:\n",
      "['story_5_hfhs', 'story_3_hfls', 'story_1_lfls', 'story_2_control', 'story_4_lfhs']\n",
      "\n",
      "Participant 7:\n",
      "['story_3_lfhs', 'story_1_control', 'story_2_hfhs', 'story_4_lfls', 'story_5_hfls']\n",
      "\n",
      "Participant 8:\n",
      "['story_5_control', 'story_4_lfhs', 'story_2_hfhs', 'story_3_lfls', 'story_1_hfls']\n",
      "\n",
      "Participant 9:\n",
      "['story_2_lfls', 'story_1_hfhs', 'story_4_hfls', 'story_5_lfhs', 'story_3_control']\n",
      "\n",
      "Participant 10:\n",
      "['story_1_control', 'story_3_hfhs', 'story_5_lfhs', 'story_4_lfls', 'story_2_hfls']\n",
      "\n"
     ]
    }
   ],
   "source": [
    "count = 0\n",
    "for i in range(0, len(all_combinations), 5):\n",
    "    count += 1\n",
    "    print(\"Participant {n}:\".format(n = count))\n",
    "    print(all_combinations[i:i+5])\n",
    "    print(\"\")"
   ]
  },
  {
   "cell_type": "code",
   "execution_count": null,
   "metadata": {},
   "outputs": [],
   "source": []
  }
 ],
 "metadata": {
  "kernelspec": {
   "display_name": "Python 3",
   "language": "python",
   "name": "python3"
  },
  "language_info": {
   "codemirror_mode": {
    "name": "ipython",
    "version": 3
   },
   "file_extension": ".py",
   "mimetype": "text/x-python",
   "name": "python",
   "nbconvert_exporter": "python",
   "pygments_lexer": "ipython3",
   "version": "3.8.5"
  }
 },
 "nbformat": 4,
 "nbformat_minor": 4
}
